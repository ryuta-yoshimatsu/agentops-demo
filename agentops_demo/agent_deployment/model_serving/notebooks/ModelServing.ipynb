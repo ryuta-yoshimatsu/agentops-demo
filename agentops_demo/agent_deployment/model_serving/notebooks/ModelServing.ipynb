{
  "cells": [
    {
      "cell_type": "code",
      "metadata": {},
      "source": [
        "# Databricks notebook source\n",
        "#%pip install -r /Workspace/Users/ryuta.yoshimatsu@databricks.com/agentops-demo/agentops_demo/agent_development/agent_requirements.txt\n",
        "dbutils.library.restartPython()"
      ],
      "execution_count": null,
      "outputs": []
    },
    {
      "cell_type": "code",
      "metadata": {},
      "source": [
        "%load_ext autoreload\n",
        "%autoreload 2\n",
        "# Enables autoreload; learn more at https://docs.databricks.com/en/files/workspace-modules.html#autoreload-for-python-modules\n",
        "# To disable autoreload; run %autoreload 0"
      ],
      "execution_count": null,
      "outputs": []
    },
    {
      "cell_type": "code",
      "metadata": {},
      "source": [
        "##################################################################################\n",
        "# Model Serving\n",
        "# \n",
        "# Helper notebook to serve the model on an endpoint. This notebook is run\n",
        "# after the ModelDeployment.py notebook as part of a multi-task job, in order to serve the model\n",
        "# on an endpoint stage after transitioning the latest version.\n",
        "#\n",
        "# Parameters:\n",
        "# * uc_catalog (required)           - Name of the Unity Catalog \n",
        "# * schema (required)               - Name of the schema inside Unity Catalog \n",
        "# * registered_model (required)     - Name of the model registered in mlflow\n",
        "# * model_alias (required)          - Model alias to deploy\n",
        "# * scale_to_zero (required)        - Specify if the endpoint should scale to zero when not in use.\n",
        "# * workload_size (required)        - Specify  the size of the compute scale out that corresponds with the number of requests this served \n",
        "#                                     model can process at the same time. This number should be roughly equal to QPS x model run time.\n",
        "# * bundle_root (required)          - Root of the bundle\n",
        "#\n",
        "# Widgets:\n",
        "# * Unity Catalog: Text widget to input the name of the Unity Catalog\n",
        "# * Schema: Text widget to input the name of the database inside the Unity Catalog\n",
        "# * Registered model name: Text widget to input the name of the model to register in mlflow\n",
        "# * Model Alias: Text widget to input the model alias to deploy\n",
        "# * Scale to zero: Whether the clusters should scale to zero (requiring more time at startup after inactivity)\n",
        "# * Workload Size: Compute that matches estimated number of requests for the endpoint\n",
        "# * Bundle root: Text widget to input the root of the bundle\n",
        "#\n",
        "# Usage:\n",
        "# 1. Set the appropriate values for the widgets.\n",
        "# 2. Add members that you want to grant access to for the review app to the user_list.\n",
        "# 3. Run to deploy endpoint.\n",
        "#\n",
        "##################################################################################"
      ],
      "execution_count": null,
      "outputs": []
    },
    {
      "cell_type": "code",
      "metadata": {},
      "source": [
        "# List of input args needed to run the notebook as a job.\n",
        "# Provide them via DB widgets or notebook arguments.\n",
        "\n",
        "# A Unity Catalog containing the model\n",
        "dbutils.widgets.text(\n",
        "    \"uc_catalog\",\n",
        "    \"agentops_stacks_dev\",\n",
        "    label=\"Unity Catalog\",\n",
        ")\n",
        "# Name of schema\n",
        "dbutils.widgets.text(\n",
        "    \"schema\",\n",
        "    \"agentops\",\n",
        "    label=\"Schema\",\n",
        ")\n",
        "# Name of model registered in mlflow\n",
        "dbutils.widgets.text(\n",
        "    \"registered_model\",\n",
        "    \"agent_function_chatbot\",\n",
        "    label=\"Registered model name\",\n",
        ")\n",
        "# Model alias\n",
        "dbutils.widgets.text(\n",
        "    \"model_alias\",\n",
        "    \"agent_latest\",\n",
        "    label=\"Model Alias\",\n",
        ")\n",
        "# Scale to zero\n",
        "dbutils.widgets.dropdown(\"scale_to_zero\", \"True\", [\"True\", \"False\"], \"Scale to zero\")\n",
        "# Workdload size\n",
        "dbutils.widgets.dropdown(\"workload_size\", \"Small\", [\"Small\", \"Medium\", \"Large\"], \"Workload Size\")\n",
        "\n",
        "# Bundle root\n",
        "dbutils.widgets.text(\n",
        "    \"bundle_root\",\n",
        "    \"/\",\n",
        "    label=\"Root of bundle\",\n",
        ")"
      ],
      "execution_count": null,
      "outputs": []
    },
    {
      "cell_type": "code",
      "metadata": {},
      "source": [
        "dbutils.library.restartPython()"
      ],
      "execution_count": null,
      "outputs": []
    },
    {
      "cell_type": "code",
      "metadata": {},
      "source": [
        "uc_catalog = dbutils.widgets.get(\"uc_catalog\")\n",
        "schema = dbutils.widgets.get(\"schema\")\n",
        "registered_model = dbutils.widgets.get(\"registered_model\")\n",
        "model_alias = dbutils.widgets.get(\"model_alias\")\n",
        "scale_to_zero = bool(dbutils.widgets.get(\"scale_to_zero\"))\n",
        "workload_size = dbutils.widgets.get(\"workload_size\")\n",
        "bundle_root = dbutils.widgets.get(\"bundle_root\")\n",
        "\n",
        "assert uc_catalog != \"\", \"uc_catalog notebook parameter must be specified\"\n",
        "assert schema != \"\", \"schema notebook parameter must be specified\"\n",
        "assert registered_model != \"\", \"registered_model notebook parameter must be specified\"\n",
        "assert model_alias != \"\", \"model_alias notebook parameter must be specified\"\n",
        "assert scale_to_zero != \"\", \"scale_to_zero notebook parameter must be specified\"\n",
        "assert workload_size != \"\", \"workload_size notebook parameter must be specified\"\n",
        "assert bundle_root != \"\", \"bundle_root notebook parameter must be specified\"\n",
        "\n",
        "# Updating to bundle root\n",
        "import sys \n",
        "\n",
        "root = dbutils.widgets.get(\"bundle_root\")\n",
        "sys.path.append(root)"
      ],
      "execution_count": null,
      "outputs": []
    },
    {
      "cell_type": "markdown",
      "metadata": {},
      "source": [
        "### Review Instructions\n"
      ]
    },
    {
      "cell_type": "code",
      "metadata": {},
      "source": [
        "instructions_to_reviewer = f\"\"\"### Instructions for Testing the our Chatbot assistant\n",
        "\n",
        "Your inputs are invaluable for the development team. By providing detailed feedback and corrections, you help us fix issues and improve the overall quality of the application. We rely on your expertise to identify any gaps or areas needing enhancement.\n",
        "\n",
        "1. **Variety of Questions**:\n",
        "   - Please try a wide range of questions that you anticipate the end users of the application will ask. This helps us ensure the application can handle the expected queries effectively.\n",
        "\n",
        "2. **Feedback on Answers**:\n",
        "   - After asking each question, use the feedback widgets provided to review the answer given by the application.\n",
        "   - If you think the answer is incorrect or could be improved, please use \"Edit Answer\" to correct it. Your corrections will enable our team to refine the application's accuracy.\n",
        "\n",
        "3. **Review of Returned Documents**:\n",
        "   - Carefully review each document that the system returns in response to your question.\n",
        "   - Use the thumbs up/down feature to indicate whether the document was relevant to the question asked. A thumbs up signifies relevance, while a thumbs down indicates the document was not useful.\n",
        "\n",
        "Thank you for your time and effort in testing our assistant. Your contributions are essential to delivering a high-quality product to our end users.\"\"\""
      ],
      "execution_count": null,
      "outputs": []
    },
    {
      "cell_type": "markdown",
      "metadata": {},
      "source": [
        "### Create agent deployment\n"
      ]
    },
    {
      "cell_type": "code",
      "metadata": {},
      "source": [
        "from databricks import agents\n",
        "from mlflow import MlflowClient\n",
        "\n",
        "client = MlflowClient()\n",
        "\n",
        "model_name = f\"{uc_catalog}.{schema}.{registered_model}\"\n",
        "model_version = client.get_model_version_by_alias(model_name, model_alias).version\n",
        "\n",
        "if not agents.get_deployments(model_name):\n",
        "    deployment_info = agents.deploy(model_name=model_name, model_version=int(model_version), scale_to_zero=scale_to_zero, workload_size=workload_size)\n",
        "else:\n",
        "    deployment_info = agents.get_deployments(model_name)[0]\n",
        "    print(f\"Deployment {model_name} already exists. Deleting and redeploying...\")\n",
        "    agents.delete_deployment(model_name=model_name, model_version=deployment_info.model_version)\n",
        "    deployment_info = agents.deploy(model_name=model_name, model_version=int(model_version), scale_to_zero=scale_to_zero, workload_size=workload_size)\n",
        "\n",
        "\n",
        "# Add the user-facing instructions to the Review App\n",
        "agents.set_review_instructions(model_name, instructions_to_reviewer)"
      ],
      "execution_count": null,
      "outputs": []
    },
    {
      "cell_type": "markdown",
      "metadata": {},
      "source": [
        "### Test Endpoint\n"
      ]
    },
    {
      "cell_type": "code",
      "metadata": {},
      "source": [
        "from agent_deployment.model_serving.serving.serving import wait_for_model_serving_endpoint_to_be_ready\n",
        "wait_for_model_serving_endpoint_to_be_ready(deployment_info.endpoint_name)"
      ],
      "execution_count": null,
      "outputs": []
    },
    {
      "cell_type": "markdown",
      "metadata": {},
      "source": [
        "### Grant Permissions\n"
      ]
    },
    {
      "cell_type": "code",
      "metadata": {},
      "source": [
        "#TODO grant your stakeholders permissions to use the Review App\n",
        "# user_list = [\"firstname.lastname@company.com\"]\n",
        "\n",
        "# Set the permissions.\n",
        "\n",
        "# agents.set_permissions(model_name=model_name, users=user_list, permission_level=agents.PermissionLevel.CAN_QUERY)\n",
        "\n",
        "# print(f\"Share this URL with your stakeholders: {deployment_info.review_app_url}\")"
      ],
      "execution_count": null,
      "outputs": []
    },
    {
      "cell_type": "markdown",
      "metadata": {},
      "source": [
        "### Test endpoint\n"
      ]
    },
    {
      "cell_type": "code",
      "metadata": {},
      "source": [
        "from mlflow.deployments import get_deploy_client\n",
        "\n",
        "client = get_deploy_client()\n",
        "input_example = {\n",
        "    \"messages\": [{\"role\": \"user\", \"content\": \"What is MLflow?\"}],\n",
        "    \"databricks_options\": {\"return_trace\": True},\n",
        "}\n",
        "\n",
        "response = client.predict(endpoint=deployment_info.endpoint_name, inputs=input_example)\n",
        "\n",
        "print(response['messages'][-1]['content'])"
      ],
      "execution_count": null,
      "outputs": []
    }
  ],
  "metadata": {
    "kernelspec": {
      "display_name": "Python 3",
      "language": "python",
      "name": "python3"
    },
    "language_info": {
      "name": "python",
      "version": "3.10.0",
      "mimetype": "text/x-python",
      "codemirror_mode": {
        "name": "ipython",
        "version": 3
      },
      "pygments_lexer": "ipython3",
      "nbconvert_exporter": "python",
      "file_extension": ".py"
    }
  },
  "nbformat": 4,
  "nbformat_minor": 4
}